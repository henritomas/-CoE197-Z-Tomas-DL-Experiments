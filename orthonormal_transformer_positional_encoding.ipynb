{
  "nbformat": 4,
  "nbformat_minor": 0,
  "metadata": {
    "colab": {
      "name": "Copy of transformer positional encoding graph.ipynb",
      "provenance": [],
      "collapsed_sections": [],
      "toc_visible": true,
      "include_colab_link": true
    },
    "kernelspec": {
      "name": "python3",
      "display_name": "Python 3"
    }
  },
  "cells": [
    {
      "cell_type": "markdown",
      "metadata": {
        "id": "view-in-github",
        "colab_type": "text"
      },
      "source": [
        "<a href=\"https://colab.research.google.com/github/henritomas/CoE197-Z-Tomas-DL-Experiments/blob/master/orthonormal_transformer_positional_encoding.ipynb\" target=\"_parent\"><img src=\"https://colab.research.google.com/assets/colab-badge.svg\" alt=\"Open In Colab\"/></a>"
      ]
    },
    {
      "cell_type": "markdown",
      "metadata": {
        "id": "vCRJvxwrqsiX"
      },
      "source": [
        "# Orthonormalized 16 x 16 Positional Encoding\n",
        "- Homework # 1 for EE 298-M\n",
        "- Submitted by Henri Marcelo B. Tomas\n",
        "-  github.com/henritomas"
      ]
    },
    {
      "cell_type": "markdown",
      "metadata": {
        "id": "SueDzJUGrbdK"
      },
      "source": [
        "## i. Requirements: \n",
        "- Only use Python, Numpy for implementation\n",
        "- I only used matplotlib for the visualization, and math module for value of **pi**"
      ]
    },
    {
      "cell_type": "code",
      "metadata": {
        "id": "JaLFyOLDKr56"
      },
      "source": [
        "import numpy as np\n",
        "import matplotlib.pyplot as plt\n",
        "\n",
        "import math # Only used this for accurate pi value"
      ],
      "execution_count": 1,
      "outputs": []
    },
    {
      "cell_type": "markdown",
      "metadata": {
        "id": "Z0LCMA7arw-o"
      },
      "source": [
        "## ii. Functions to check if Orthogonal, Normal, or Orthonormal"
      ]
    },
    {
      "cell_type": "code",
      "metadata": {
        "id": "CrXnZGNVwSMa"
      },
      "source": [
        "# Check if basis vectors (row vectors / token position vectors) are orthogonal\n",
        "\n",
        "def is_orthogonal(U):\n",
        "\n",
        "    V = U @ np.transpose(U)\n",
        "    #print(V)\n",
        "    for i in range(V.shape[0]):\n",
        "        for j in range(V.shape[1]):\n",
        "            if i == j: continue\n",
        "\n",
        "            if not np.isclose(V[i,j], 0.0): #Is V[i,j] i!=j approx. equal to 0?\n",
        "                return False\n",
        "\n",
        "    return True\n",
        "\n",
        "def is_normal(U):\n",
        "    for i in range(U.shape[1]):\n",
        "        u_norm = np.dot(U[:,i] , U[:,i])\n",
        "\n",
        "        if not np.isclose(u_norm, 1.0): #Is u_norm approx. equal to 1?\n",
        "            return False\n",
        "\n",
        "    return True\n",
        "\n",
        "def is_orthonormal(U):\n",
        "    if is_orthogonal(U) and is_normal(U):\n",
        "        return True\n",
        "\n",
        "    return False"
      ],
      "execution_count": 2,
      "outputs": []
    },
    {
      "cell_type": "markdown",
      "metadata": {
        "id": "aGhudXq5sC0o"
      },
      "source": [
        "## iii. Gram-Schmidt implementation in Numpy and Python\n",
        "- **Classical Gram-Schmidt** sometimes fails for complex matrices, and is sometimes computationally inaccurate\n",
        "- **Modified Gram-Schmidt** is also implemented to solve this issue"
      ]
    },
    {
      "cell_type": "code",
      "metadata": {
        "id": "DAP3KxShBf1f",
        "outputId": "48331260-8313-49cf-e685-2014226a398a",
        "colab": {
          "base_uri": "https://localhost:8080/",
          "height": 153
        }
      },
      "source": [
        "# Gram Schmidt and Modified Gram Schmidt with example 3 x 3 basis (row) vectors\n",
        "\n",
        "def gs_scalar(u2, v1):\n",
        "    return np.dot(u2, v1) / np.dot(v1, v1)\n",
        "\n",
        "def normalize(v):\n",
        "    norm = np.linalg.norm(v)\n",
        "    if norm == 0:\n",
        "        print('Norm is 0, returning input')\n",
        "        return v\n",
        "\n",
        "    return v / norm\n",
        "\n",
        "def gram_schmidt(U):\n",
        "\n",
        "    V = []\n",
        "\n",
        "    for i in range(len(U)):\n",
        "\n",
        "        temp_vec = U[i]\n",
        "\n",
        "        for vi in V:\n",
        "\n",
        "            subtract_vec = gs_scalar(U[i], vi) * vi\n",
        "            temp_vec = temp_vec - subtract_vec\n",
        "\n",
        "        V.append(normalize(temp_vec))\n",
        "    return np.vstack(V)\n",
        "\n",
        "''' '''\n",
        "def modified_gram_schmidt(U):\n",
        "\n",
        "    V = []\n",
        "    Q = []\n",
        "    n = len(U)\n",
        "\n",
        "    for j in range(n):\n",
        "\n",
        "        V.append(U[j])\n",
        "\n",
        "    for j in range(n):\n",
        "        Q.append(normalize(V[j]))\n",
        "\n",
        "        for k in range(j+1, n):\n",
        "            V[k] = V[k] - (gs_scalar(V[k], Q[j]) * Q[j]) \n",
        "\n",
        "    return np.vstack(Q)\n",
        "\n",
        "def numpy_GS(U):\n",
        "    \n",
        "    q, r = np.linalg.qr(U)\n",
        "    return q\n",
        "\n",
        "r = np.random.rand(5,5)\n",
        "ans_matrix = modified_gram_schmidt(r)        \n",
        "print(ans_matrix)\n",
        "\n",
        "print(is_orthogonal(ans_matrix))\n",
        "print(is_normal(ans_matrix))\n",
        "print(is_orthonormal(ans_matrix))"
      ],
      "execution_count": 3,
      "outputs": [
        {
          "output_type": "stream",
          "text": [
            "[[ 0.16665721  0.86385487  0.42513948  0.1617721   0.13808095]\n",
            " [ 0.46761163 -0.1911263  -0.04541476 -0.07462894  0.85859078]\n",
            " [-0.21633375 -0.29020569  0.29562798  0.87215621  0.1446652 ]\n",
            " [ 0.76879214  0.0086539  -0.33001433  0.37209881 -0.4018915 ]\n",
            " [ 0.34018097 -0.3645974   0.78796483 -0.26295692 -0.24761003]]\n",
            "True\n",
            "True\n",
            "True\n"
          ],
          "name": "stdout"
        }
      ]
    },
    {
      "cell_type": "markdown",
      "metadata": {
        "id": "UhypgVnzTJMy"
      },
      "source": [
        "## iv. Numpy's built in Gram-Schmidt: QR decomp\n",
        "\n",
        "Numpy also provides their own function for getting orthonormal matrices, which is the QR factorization. We can see that the answer for the sample 5x5 matrix is the same for our implemented MGS. Take Note that the row vectors are the basis vectors in these examples. "
      ]
    },
    {
      "cell_type": "code",
      "metadata": {
        "id": "Y9Byq13uSn2L",
        "outputId": "17fc15b9-85cd-4a7b-8867-0c8d8b6d396b",
        "colab": {
          "base_uri": "https://localhost:8080/",
          "height": 153
        }
      },
      "source": [
        "ans_matrix, _ = np.linalg.qr(np.transpose(r)) \n",
        "ans_matrix = np.transpose(ans_matrix)       \n",
        "print(ans_matrix)\n",
        "\n",
        "print(is_orthogonal(ans_matrix))\n",
        "print(is_normal(ans_matrix))\n",
        "print(is_orthonormal(ans_matrix))"
      ],
      "execution_count": 4,
      "outputs": [
        {
          "output_type": "stream",
          "text": [
            "[[-0.16665721 -0.86385487 -0.42513948 -0.1617721  -0.13808095]\n",
            " [ 0.46761163 -0.1911263  -0.04541476 -0.07462894  0.85859078]\n",
            " [ 0.21633375  0.29020569 -0.29562798 -0.87215621 -0.1446652 ]\n",
            " [-0.76879214 -0.0086539   0.33001433 -0.37209881  0.4018915 ]\n",
            " [-0.34018097  0.3645974  -0.78796483  0.26295692  0.24761003]]\n",
            "True\n",
            "True\n",
            "True\n"
          ],
          "name": "stdout"
        }
      ]
    },
    {
      "cell_type": "markdown",
      "metadata": {
        "id": "WiXocIX3sg_l"
      },
      "source": [
        "## 1. Homework Proper: The Positional Encoding\n",
        "- Domain is distributed between 0 and 2pi, 8 identical values each for the intertwined sin and cosine to make 16-dim when combined\n",
        "- Values are scaled by 1/#_of_tokens so when the positional vector is multiplied, domain is kept between 0 and **2pi** and there will be no repeating vectors"
      ]
    },
    {
      "cell_type": "code",
      "metadata": {
        "id": "wJ8PwhyxBl7t",
        "outputId": "b390c95e-6bb1-4d5d-f2fd-7da57a3eea06",
        "colab": {
          "base_uri": "https://localhost:8080/",
          "height": 518
        }
      },
      "source": [
        "# Code from https://www.tensorflow.org/tutorials/text/transformer\n",
        "# Modified to make the domain distributed between 0 and 2pi\n",
        "# x = [0, 1/4 pi, 2/4 pi, ..., 7/4 pi] is 8 values overall \n",
        "\n",
        "def positional_encoding(position, d_model):\n",
        "  \n",
        "  # Get values between 0 and 2pi, multiplied by 1/16 to compensate for token-position scaling\n",
        "  pos_scale = 1/position\n",
        "  pos_vector = np.arange(position)[:, np.newaxis]\n",
        "  \n",
        "  # I want to flip the 0 to 2pi domain (2pi to 0 instead) so it looks better\n",
        "  x = np.linspace(0, (7/4)*math.pi, num=8) * pos_scale\n",
        "  x = np.flip(np.repeat(x, 2)) # repeat x values twice to intertwine sin and cos\n",
        "  x = x[np.newaxis, :]\n",
        "  x = pos_vector * x\n",
        "\n",
        "\n",
        "  pos_encoding = np.zeros((position, d_model))\n",
        "\n",
        "  # apply sin to even indices in the array; 2i\n",
        "  pos_encoding[:, 0::2] = np.sin(x[:, 0::2])\n",
        "  \n",
        "  # apply cos to odd indices in the array; 2i+1\n",
        "  pos_encoding[:, 1::2] = np.cos(x[:, 1::2])\n",
        "    \n",
        "  pos_encoding = pos_encoding[np.newaxis, ...]\n",
        "    \n",
        "  return pos_encoding\n",
        "\n",
        "tokens = 16\n",
        "dimensions = 16\n",
        "\n",
        "pos_encoding = positional_encoding(tokens, dimensions)\n",
        "print (pos_encoding.shape)\n",
        "\n",
        "plt.figure(figsize=(12,8))\n",
        "plt.pcolormesh(pos_encoding[0], cmap='viridis')\n",
        "plt.xlabel('Embedding Dimensions')\n",
        "plt.xlim((0, dimensions))\n",
        "plt.ylim((tokens,0))\n",
        "plt.ylabel('Token Position')\n",
        "plt.colorbar()\n",
        "plt.show()"
      ],
      "execution_count": 5,
      "outputs": [
        {
          "output_type": "stream",
          "text": [
            "(1, 16, 16)\n"
          ],
          "name": "stdout"
        },
        {
          "output_type": "display_data",
          "data": {
            "image/png": "[encoded data removed]",
            "text/plain": [
              "<Figure size 864x576 with 2 Axes>"
            ]
          },
          "metadata": {
            "tags": [],
            "needs_background": "light"
          }
        }
      ]
    },
    {
      "cell_type": "markdown",
      "metadata": {
        "id": "EQWYoFOeuIgP"
      },
      "source": [
        "## 2. Are these Basis Vectors Ortho(gonal/normal)? \n",
        "Taking the column vectors (the dimensions) of the 16x16 positional encoding as basis vectors for the positional encoding, \n",
        "\n",
        "we check if orthogonal or orthonormal:\n"
      ]
    },
    {
      "cell_type": "code",
      "metadata": {
        "id": "s9fBuK7Fuxmv",
        "outputId": "c2e4290a-cfdc-4639-ce63-a5c87d0a458a",
        "colab": {
          "base_uri": "https://localhost:8080/",
          "height": 68
        }
      },
      "source": [
        "#Take the basis column vectors, transform to rows so we can plug into my functions\n",
        "basis = pos_encoding[0]\n",
        "\n",
        "print('Orthogonal: ', is_orthogonal(basis))\n",
        "print('Normalized: ', is_normal(basis))\n",
        "print('Orthonormal:', is_orthonormal(basis))"
      ],
      "execution_count": 6,
      "outputs": [
        {
          "output_type": "stream",
          "text": [
            "Orthogonal:  False\n",
            "Normalized:  False\n",
            "Orthonormal: False\n"
          ],
          "name": "stdout"
        }
      ]
    },
    {
      "cell_type": "markdown",
      "metadata": {
        "id": "w9YTvlwbvQY-"
      },
      "source": [
        "## 3. Apply Gram-Schmidt\n",
        "The positional encoding as basis vectors are not ortho(gonal/normal), we fix this by applying the MGS algorithm. For some reason, the results of numpy's GS and my MGS differ, with numpy's GS being successful in orthonormalizing the 16x16 matrix. \n",
        "\n",
        "A visualization is also supplied:"
      ]
    },
    {
      "cell_type": "code",
      "metadata": {
        "id": "9knVyzSxzJic",
        "outputId": "9c6b8afa-e1f9-4efd-c9a9-f2d601f4afe5",
        "colab": {
          "base_uri": "https://localhost:8080/",
          "height": 552
        }
      },
      "source": [
        "# ope stands for Orthonormal_Position_Encoding\n",
        "ope = numpy_GS(basis)\n",
        "\n",
        "print('Orthogonal: ', is_orthogonal(ope))\n",
        "print('Normalized: ', is_normal(ope))\n",
        "print('Orthonormal:', is_orthonormal(ope))\n",
        "\n",
        "# Show 16x16 positional encoding \n",
        "plt.figure(figsize=(12,8))\n",
        "plt.pcolormesh(ope, cmap='viridis')\n",
        "plt.xlabel('Embedding Dimensions')\n",
        "plt.xlim((0, 16))\n",
        "plt.ylim((16,0))\n",
        "plt.ylabel('Token Position')\n",
        "plt.colorbar()\n",
        "plt.show()"
      ],
      "execution_count": 7,
      "outputs": [
        {
          "output_type": "stream",
          "text": [
            "Orthogonal:  True\n",
            "Normalized:  True\n",
            "Orthonormal: True\n"
          ],
          "name": "stdout"
        },
        {
          "output_type": "display_data",
          "data": {
            "image/png": "[encoded data removed]",
            "text/plain": [
              "<Figure size 864x576 with 2 Axes>"
            ]
          },
          "metadata": {
            "tags": [],
            "needs_background": "light"
          }
        }
      ]
    },
    {
      "cell_type": "markdown",
      "metadata": {
        "id": "op2cAFYC0Ajj"
      },
      "source": [
        "## 4. Side-by-Side Comparison"
      ]
    },
    {
      "cell_type": "code",
      "metadata": {
        "id": "XAwxeTbo0EpJ",
        "outputId": "59a4de1f-0740-4e81-fb33-d337af74c233",
        "colab": {
          "base_uri": "https://localhost:8080/",
          "height": 985
        }
      },
      "source": [
        "# Show 16x16 positional encoding \n",
        "plt.figure(figsize=(12,8))\n",
        "plt.pcolormesh(pos_encoding[0], cmap='viridis')\n",
        "plt.xlabel('Embedding Dimensions')\n",
        "plt.xlim((0, dimensions))\n",
        "plt.ylim((tokens,0))\n",
        "plt.ylabel('Token Position')\n",
        "plt.colorbar()\n",
        "plt.show()\n",
        "\n",
        "plt.figure(figsize=(12,8))\n",
        "plt.pcolormesh(ope, cmap='viridis')\n",
        "plt.xlabel('Embedding Dimensions')\n",
        "plt.xlim((0, 16))\n",
        "plt.ylim((16,0))\n",
        "plt.ylabel('Token Position')\n",
        "plt.colorbar()\n",
        "plt.show()"
      ],
      "execution_count": 8,
      "outputs": [
        {
          "output_type": "display_data",
          "data": {
            "image/png": "[encoded data removed]",
            "text/plain": [
              "<Figure size 864x576 with 2 Axes>"
            ]
          },
          "metadata": {
            "tags": [],
            "needs_background": "light"
          }
        },
        {
          "output_type": "display_data",
          "data": {
            "image/png": "[encoded data removed]",
            "text/plain": [
              "<Figure size 864x576 with 2 Axes>"
            ]
          },
          "metadata": {
            "tags": [],
            "needs_background": "light"
          }
        }
      ]
    }
  ]
}