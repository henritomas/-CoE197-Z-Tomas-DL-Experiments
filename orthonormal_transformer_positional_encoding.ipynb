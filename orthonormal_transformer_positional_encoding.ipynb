{
  "nbformat": 4,
  "nbformat_minor": 0,
  "metadata": {
    "colab": {
      "name": "Copy of transformer positional encoding graph.ipynb",
      "provenance": [],
      "collapsed_sections": [],
      "toc_visible": true,
      "include_colab_link": true
    },
    "kernelspec": {
      "name": "python3",
      "display_name": "Python 3"
    }
  },
  "cells": [
    {
      "cell_type": "markdown",
      "metadata": {
        "id": "view-in-github",
        "colab_type": "text"
      },
      "source": [
        "<a href=\"https://colab.research.google.com/github/henritomas/CoE197-Z-Tomas-DL-Experiments/blob/master/orthonormal_transformer_positional_encoding.ipynb\" target=\"_parent\"><img src=\"https://colab.research.google.com/assets/colab-badge.svg\" alt=\"Open In Colab\"/></a>"
      ]
    },
    {
      "cell_type": "markdown",
      "metadata": {
        "id": "vCRJvxwrqsiX"
      },
      "source": [
        "# Orthonormalized 16 x 16 Positional Encoding\n",
        "- Homework # 1 for EE 298-M\n",
        "- Submitted by Henri Marcelo B. Tomas\n",
        "-  github.com/henritomas"
      ]
    },
    {
      "cell_type": "markdown",
      "metadata": {
        "id": "SueDzJUGrbdK"
      },
      "source": [
        "## i. Requirements: \n",
        "- Only use Python, Numpy for implementation\n",
        "- I only used matplotlib for the visualization, and math module for value of **pi**"
      ]
    },
    {
      "cell_type": "code",
      "metadata": {
        "id": "JaLFyOLDKr56"
      },
      "source": [
        "import numpy as np\n",
        "import matplotlib.pyplot as plt\n",
        "\n",
        "import math # Only used this for accurate pi value"
      ],
      "execution_count": 1,
      "outputs": []
    },
    {
      "cell_type": "markdown",
      "metadata": {
        "id": "Z0LCMA7arw-o"
      },
      "source": [
        "## ii. Functions to check if Orthogonal, Normal, or Orthonormal"
      ]
    },
    {
      "cell_type": "code",
      "metadata": {
        "id": "CrXnZGNVwSMa"
      },
      "source": [
        "# Check if basis vectors (row vectors / token position vectors) are orthogonal\n",
        "\n",
        "def is_orthogonal(U):\n",
        "    \n",
        "    #Assumes basis vectors are rows in the matrix\n",
        "\n",
        "    V = U @ np.transpose(U)\n",
        "    #print(V)\n",
        "    for i in range(V.shape[0]):\n",
        "        for j in range(V.shape[1]):\n",
        "            if i == j: continue\n",
        "\n",
        "            if not np.isclose(V[i,j], 0.0): #Is V[i,j] i!=j approx. equal to 0?\n",
        "                return False\n",
        "\n",
        "    return True\n",
        "\n",
        "def is_normal(U):\n",
        "    for i in range(U.shape[0]):\n",
        "        u_norm = np.dot(U[i] , U[i])\n",
        "\n",
        "        if not np.isclose(u_norm, 1.0): #Is u_norm approx. equal to 1?\n",
        "            return False\n",
        "\n",
        "    return True\n",
        "\n",
        "def is_orthonormal(U):\n",
        "    if is_orthogonal(U) and is_normal(U):\n",
        "        return True\n",
        "\n",
        "    return False"
      ],
      "execution_count": 2,
      "outputs": []
    },
    {
      "cell_type": "markdown",
      "metadata": {
        "id": "aGhudXq5sC0o"
      },
      "source": [
        "## iii. Gram-Schmidt implementation in Numpy and Python\n",
        "- **Classical Gram-Schmidt** sometimes fails for complex matrices, and is sometimes computationally inaccurate\n",
        "- **Modified Gram-Schmidt** is also implemented to solve this issue"
      ]
    },
    {
      "cell_type": "code",
      "metadata": {
        "id": "DAP3KxShBf1f",
        "outputId": "572b5825-88a7-4553-f3b8-347762fc0853",
        "colab": {
          "base_uri": "https://localhost:8080/",
          "height": 153
        }
      },
      "source": [
        "# Gram Schmidt and Modified Gram Schmidt with example 3 x 3 basis (row) vectors\n",
        "\n",
        "def gs_scalar(u2, v1):\n",
        "    return np.dot(u2, v1) / np.dot(v1, v1)\n",
        "\n",
        "def normalize(v):\n",
        "    norm = np.linalg.norm(v)\n",
        "    if norm == 0:\n",
        "        print('Norm is 0, returning input')\n",
        "        return v\n",
        "\n",
        "    return v / norm\n",
        "\n",
        "def gram_schmidt(U):\n",
        "\n",
        "    V = []\n",
        "\n",
        "    for i in range(len(U)):\n",
        "\n",
        "        temp_vec = U[i]\n",
        "\n",
        "        for vi in V:\n",
        "\n",
        "            subtract_vec = gs_scalar(U[i], vi) * vi\n",
        "            temp_vec = temp_vec - subtract_vec\n",
        "\n",
        "        V.append(normalize(temp_vec))\n",
        "    return np.vstack(V)\n",
        "\n",
        "''' '''\n",
        "def modified_gram_schmidt(U):\n",
        "\n",
        "    V = []\n",
        "    Q = []\n",
        "    n = len(U)\n",
        "\n",
        "    for j in range(n):\n",
        "\n",
        "        V.append(U[j])\n",
        "\n",
        "    for j in range(n):\n",
        "        Q.append(normalize(V[j]))\n",
        "\n",
        "        for k in range(j+1, n):\n",
        "            V[k] = V[k] - (gs_scalar(V[k], Q[j]) * Q[j]) \n",
        "\n",
        "    return np.vstack(Q)\n",
        "\n",
        "r = np.random.rand(5,5)\n",
        "ans_matrix = modified_gram_schmidt(r)        \n",
        "print(ans_matrix)\n",
        "\n",
        "print(is_orthogonal(ans_matrix))\n",
        "print(is_normal(ans_matrix))\n",
        "print(is_orthonormal(ans_matrix))"
      ],
      "execution_count": 45,
      "outputs": [
        {
          "output_type": "stream",
          "text": [
            "[[ 0.14137526  0.08157506  0.52535742  0.65787253  0.51435578]\n",
            " [ 0.62279201  0.5939538   0.33924797 -0.32592998 -0.19501144]\n",
            " [-0.44907119  0.79869297 -0.33983935  0.16156217  0.13722786]\n",
            " [-0.48821114  0.05119988  0.57389237  0.14080774 -0.64019465]\n",
            " [-0.39003601 -0.005702    0.40505205 -0.64423927  0.51838982]]\n",
            "True\n",
            "True\n",
            "True\n"
          ],
          "name": "stdout"
        }
      ]
    },
    {
      "cell_type": "markdown",
      "metadata": {
        "id": "UhypgVnzTJMy"
      },
      "source": [
        "iv. Numpy's built in QR Factorization\n",
        "\n",
        "Numpy also provides their own function for getting orthonormal matrices, which is the QR factorization. We can see that the answer for the sample 5x5 matrix is the same for our implemented MGS. Take Note that the row vectors are the basis vectors in our examples. "
      ]
    },
    {
      "cell_type": "code",
      "metadata": {
        "id": "Y9Byq13uSn2L",
        "outputId": "7adf0de9-7243-4988-a560-d63cf8d7ce79",
        "colab": {
          "base_uri": "https://localhost:8080/",
          "height": 153
        }
      },
      "source": [
        "ans_matrix, _ = np.linalg.qr(np.transpose(r)) \n",
        "ans_matrix = np.transpose(ans_matrix)       \n",
        "print(ans_matrix)\n",
        "\n",
        "print(is_orthogonal(ans_matrix))\n",
        "print(is_normal(ans_matrix))\n",
        "print(is_orthonormal(ans_matrix))"
      ],
      "execution_count": 46,
      "outputs": [
        {
          "output_type": "stream",
          "text": [
            "[[-0.14137526 -0.08157506 -0.52535742 -0.65787253 -0.51435578]\n",
            " [-0.62279201 -0.5939538  -0.33924797  0.32592998  0.19501144]\n",
            " [-0.44907119  0.79869297 -0.33983935  0.16156217  0.13722786]\n",
            " [ 0.48821114 -0.05119988 -0.57389237 -0.14080774  0.64019465]\n",
            " [-0.39003601 -0.005702    0.40505205 -0.64423927  0.51838982]]\n",
            "True\n",
            "True\n",
            "True\n"
          ],
          "name": "stdout"
        }
      ]
    },
    {
      "cell_type": "markdown",
      "metadata": {
        "id": "WiXocIX3sg_l"
      },
      "source": [
        "## 1. Homework Proper: The Positional Encoding\n",
        "- Domain is distributed between 0 and 2pi, 8 identical values each for the intertwined sin and cosine to make 16-dim when combined\n",
        "- Values are scaled by 1/#_of_tokens so when the positional vector is multiplied, domain is kept between 0 and **2pi**"
      ]
    },
    {
      "cell_type": "code",
      "metadata": {
        "id": "wJ8PwhyxBl7t",
        "outputId": "20e3cfe1-af47-4fef-a102-4aa2cf96ccf9",
        "colab": {
          "base_uri": "https://localhost:8080/",
          "height": 518
        }
      },
      "source": [
        "# Code from https://www.tensorflow.org/tutorials/text/transformer\n",
        "# Modified to make the domain distributed between 0 and 2pi\n",
        "# x = [0, 1/4 pi, 2/4 pi, ..., 7/4 pi] is 8 values overall \n",
        "\n",
        "def positional_encoding(position, d_model):\n",
        "  \n",
        "  # Get values between 0 and 2pi, multiplied by 1/16 to compensate for token-position scaling\n",
        "  pos_scale = 1/position\n",
        "  pos_vector = np.arange(position)[:, np.newaxis]\n",
        "  x = np.linspace(0, (7/4)*math.pi, num=8) * pos_scale\n",
        "  x = np.repeat(x, 2) # repeat x values twice to intertwine sin and cos\n",
        "  x = x[np.newaxis, :]\n",
        "  x = pos_vector * x\n",
        "\n",
        "\n",
        "  pos_encoding = np.zeros((position, d_model))\n",
        "\n",
        "  # apply sin to even indices in the array; 2i\n",
        "  pos_encoding[:, 0::2] = np.sin(x[:, 0::2])\n",
        "  \n",
        "  # apply cos to odd indices in the array; 2i+1\n",
        "  pos_encoding[:, 1::2] = np.cos(x[:, 1::2])\n",
        "    \n",
        "  pos_encoding = pos_encoding[np.newaxis, ...]\n",
        "    \n",
        "  return pos_encoding\n",
        "\n",
        "tokens = 16\n",
        "dimensions = 16\n",
        "\n",
        "pos_encoding = positional_encoding(tokens, dimensions)\n",
        "print (pos_encoding.shape)\n",
        "\n",
        "plt.figure(figsize=(12,8))\n",
        "plt.pcolormesh(pos_encoding[0], cmap='viridis')\n",
        "plt.xlabel('Embedding Dimensions')\n",
        "plt.xlim((0, dimensions))\n",
        "plt.ylim((tokens,0))\n",
        "plt.ylabel('Token Position')\n",
        "plt.colorbar()\n",
        "plt.show()"
      ],
      "execution_count": 47,
      "outputs": [
        {
          "output_type": "stream",
          "text": [
            "(1, 16, 16)\n"
          ],
          "name": "stdout"
        },
        {
          "output_type": "display_data",
          "data": {
            "image/png": "[encoded data removed]",
            "text/plain": [
              "<Figure size 864x576 with 2 Axes>"
            ]
          },
          "metadata": {
            "tags": [],
            "needs_background": "light"
          }
        }
      ]
    },
    {
      "cell_type": "markdown",
      "metadata": {
        "id": "EQWYoFOeuIgP"
      },
      "source": [
        "## 2. Are these Basis Vectors Ortho(gonal/normal)? \n",
        "Taking the row vectors (the tokens) of the 16x16 positional encoding as basis vectors for the positional encoding, \n",
        "\n",
        "we check if orthogonal or orthonormal:\n"
      ]
    },
    {
      "cell_type": "code",
      "metadata": {
        "id": "s9fBuK7Fuxmv",
        "outputId": "fb529c5c-7e79-4591-ee30-7c209421d9f5",
        "colab": {
          "base_uri": "https://localhost:8080/",
          "height": 68
        }
      },
      "source": [
        "print('Orthogonal: ', is_orthogonal(pos_encoding[0]))\n",
        "print('Normalized: ', is_normal(pos_encoding[0]))\n",
        "print('Orthonormal:', is_orthonormal(pos_encoding[0]))"
      ],
      "execution_count": 48,
      "outputs": [
        {
          "output_type": "stream",
          "text": [
            "Orthogonal:  False\n",
            "Normalized:  False\n",
            "Orthonormal: False\n"
          ],
          "name": "stdout"
        }
      ]
    },
    {
      "cell_type": "markdown",
      "metadata": {
        "id": "w9YTvlwbvQY-"
      },
      "source": [
        "## 3. Apply Modified Gram-Schmidt\n",
        "The positional encoding as basis vectors are not ortho(gonal/normal), we fix this by applying the MGS algorithm. For some reason, the results of numpy's QR and my MGS differ, with numpy's QR being successful in orthonormalizing the 16x16 matrix. \n",
        "\n",
        "A visualization is also supplied:"
      ]
    },
    {
      "cell_type": "code",
      "metadata": {
        "id": "9knVyzSxzJic",
        "outputId": "b9a43c17-3d94-480e-f635-31076d8ce57e",
        "colab": {
          "base_uri": "https://localhost:8080/",
          "height": 552
        }
      },
      "source": [
        "# ope stands for Orthonormal_Position_Encoding\n",
        "# ope = modified_gram_schmidt(pos_encoding[0])\n",
        "ope, _ = np.linalg.qr(np.transpose(pos_encoding[0]))\n",
        "ope = np.transpose(ope)\n",
        "print('Orthogonal: ', is_orthogonal(ope))\n",
        "print('Normalized: ', is_normal(ope))\n",
        "print('Orthonormal:', is_orthonormal(ope))\n",
        "\n",
        "# Show 16x16 positional encoding \n",
        "plt.figure(figsize=(12,8))\n",
        "plt.pcolormesh(ope, cmap='viridis')\n",
        "plt.xlabel('Embedding Dimensions')\n",
        "plt.xlim((0, 16))\n",
        "plt.ylim((16,0))\n",
        "plt.ylabel('Token Position')\n",
        "plt.colorbar()\n",
        "plt.show()"
      ],
      "execution_count": 49,
      "outputs": [
        {
          "output_type": "stream",
          "text": [
            "Orthogonal:  True\n",
            "Normalized:  True\n",
            "Orthonormal: True\n"
          ],
          "name": "stdout"
        },
        {
          "output_type": "display_data",
          "data": {
            "image/png": "[encoded data removed]",
            "text/plain": [
              "<Figure size 864x576 with 2 Axes>"
            ]
          },
          "metadata": {
            "tags": [],
            "needs_background": "light"
          }
        }
      ]
    },
    {
      "cell_type": "markdown",
      "metadata": {
        "id": "op2cAFYC0Ajj"
      },
      "source": [
        "## 4. Side-by-Side Comparison"
      ]
    },
    {
      "cell_type": "code",
      "metadata": {
        "id": "XAwxeTbo0EpJ",
        "outputId": "711d2661-b5cb-4a04-8af9-b37ebb25ed42",
        "colab": {
          "base_uri": "https://localhost:8080/",
          "height": 985
        }
      },
      "source": [
        "# Show 16x16 positional encoding \n",
        "plt.figure(figsize=(12,8))\n",
        "plt.pcolormesh(pos_encoding[0], cmap='viridis')\n",
        "plt.xlabel('Embedding Dimensions')\n",
        "plt.xlim((0, dimensions))\n",
        "plt.ylim((tokens,0))\n",
        "plt.ylabel('Token Position')\n",
        "plt.colorbar()\n",
        "plt.show()\n",
        "\n",
        "plt.figure(figsize=(12,8))\n",
        "plt.pcolormesh(ope, cmap='viridis')\n",
        "plt.xlabel('Embedding Dimensions')\n",
        "plt.xlim((0, 16))\n",
        "plt.ylim((16,0))\n",
        "plt.ylabel('Token Position')\n",
        "plt.colorbar()\n",
        "plt.show()"
      ],
      "execution_count": 50,
      "outputs": [
        {
          "output_type": "display_data",
          "data": {
            "image/png": "[encoded data removed]",
            "text/plain": [
              "<Figure size 864x576 with 2 Axes>"
            ]
          },
          "metadata": {
            "tags": [],
            "needs_background": "light"
          }
        },
        {
          "output_type": "display_data",
          "data": {
            "image/png": "[encoded data removed]",
            "text/plain": [
              "<Figure size 864x576 with 2 Axes>"
            ]
          },
          "metadata": {
            "tags": [],
            "needs_background": "light"
          }
        }
      ]
    }
  ]
}