{
  "nbformat": 4,
  "nbformat_minor": 0,
  "metadata": {
    "colab": {
      "name": "[COE 197-Z] CNN vs MLP Comparison.ipynb",
      "version": "0.3.2",
      "provenance": [],
      "collapsed_sections": [],
      "include_colab_link": true
    },
    "kernelspec": {
      "name": "python3",
      "display_name": "Python 3"
    }
  },
  "cells": [
    {
      "cell_type": "markdown",
      "metadata": {
        "id": "view-in-github",
        "colab_type": "text"
      },
      "source": [
        "<a href=\"https://colab.research.google.com/github/henritomas/CoE197-Z-Tomas-DL-Experiments/blob/master/%5BCOE_197_Z%5D_CNN_vs_MLP_Comparison.ipynb\" target=\"_parent\"><img src=\"https://colab.research.google.com/assets/colab-badge.svg\" alt=\"Open In Colab\"/></a>"
      ]
    },
    {
      "metadata": {
        "id": "SMQSDOMAl4rq",
        "colab_type": "text"
      },
      "cell_type": "markdown",
      "source": [
        "#Convolutional Neural Network (CNN) vs Multilayer Perceptron (MLP) performance comparison on the CIFAR-10 Dataset\n",
        "\n",
        "*   CNN has a significantly higher test accuracy of 75.67%, greater than MLP's 54.22%.\n",
        "*   CNN achieved this higher test accuracy in a lesser amount of epochs (15) compared to MLP (100) both with the same batch size. \n",
        "*   CNN converges in ~260 s, while MLP converges in ~348 s using the same setup for both (on a core of Colab's Tesla K80 GPU).\n",
        "*   CNN , specifically the Conv2D layer, accepts 2D images and rgb values readily, compared to MLP which requres the images to be rearranged into a 1D array. \n"
      ]
    },
    {
      "metadata": {
        "id": "IqWHmw7krTcB",
        "colab_type": "text"
      },
      "cell_type": "markdown",
      "source": [
        "#Conclusion\n",
        "\n",
        "CNN generally performs better specifically on images, and more generally on data that have a spatial relationship. As we could observe from the CNN and MLP comparison, CNN outperforms MLP on every relevant metric in this classification problem, and simply proves to be the more efficient model to train when handling image data such as the the CIFAR-10 photos used in the experiment. "
      ]
    }
  ]
}